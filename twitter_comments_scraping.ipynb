{
 "cells": [
  {
   "cell_type": "markdown",
   "metadata": {},
   "source": [
    "#### Importing necessary liberaries."
   ]
  },
  {
   "cell_type": "code",
   "execution_count": 1,
   "metadata": {},
   "outputs": [],
   "source": [
    "from selenium import webdriver\n",
    "from bs4 import BeautifulSoup\n",
    "import re\n",
    "import time\n",
    "import matplotlib.pyplot as plt\n",
    "import nltk\n",
    "from nltk.sentiment.vader import SentimentIntensityAnalyzer"
   ]
  },
  {
   "cell_type": "markdown",
   "metadata": {},
   "source": [
    "#### taking the twitter url as input."
   ]
  },
  {
   "cell_type": "code",
   "execution_count": 78,
   "metadata": {},
   "outputs": [],
   "source": [
    "url = input('paste the twitter url here: ') # paste the url copied from comments page on twitter."
   ]
  },
  {
   "cell_type": "markdown",
   "metadata": {},
   "source": [
    "#### asking user for the number of comments to be processed"
   ]
  },
  {
   "cell_type": "code",
   "execution_count": 79,
   "metadata": {},
   "outputs": [],
   "source": [
    "num = int(input('Enter the number of comments to process: '))"
   ]
  },
  {
   "cell_type": "markdown",
   "metadata": {},
   "source": [
    "#### initializing the chrome driver to be used by Selenium"
   ]
  },
  {
   "cell_type": "code",
   "execution_count": 53,
   "metadata": {},
   "outputs": [],
   "source": [
    "driver = webdriver.Chrome()"
   ]
  },
  {
   "cell_type": "markdown",
   "metadata": {},
   "source": [
    "#### defining a function that scrolls down the page for more comments"
   ]
  },
  {
   "cell_type": "code",
   "execution_count": 54,
   "metadata": {},
   "outputs": [],
   "source": [
    "def scroll(n):\n",
    "    t,i = 1, 1\n",
    "    while(i<n):\n",
    "        driver.execute_script(\"window.scrollBy(0, 5000);\") # scrolls down the page on selenium chrome window\n",
    "        print(\" --------- please wait ---------  \")\n",
    "        time.sleep(3) # please increase or decrease the timer value according to the internet speed.\n",
    "        t+=1\n",
    "\n",
    "        html = driver.page_source # collecting the HTML response from driver page\n",
    "        soupeddata = BeautifulSoup(html, \"html.parser\") # initializing bs4 object with 'html.parser' property\n",
    "        tw_links = soupeddata.find_all(\"li\", class_ = \"ThreadedConversation--loneTweet\") # reading the data from HTML page\n",
    "        \n",
    "        i = len(tw_links)\n",
    "    print('completed!!')\n",
    "    return tw_links"
   ]
  },
  {
   "cell_type": "markdown",
   "metadata": {},
   "source": [
    "#### passing the url request to driver and gathering page's response"
   ]
  },
  {
   "cell_type": "code",
   "execution_count": 55,
   "metadata": {},
   "outputs": [
    {
     "name": "stdout",
     "output_type": "stream",
     "text": [
      " --------- please wait ---------  \n",
      "completed!!\n"
     ]
    }
   ],
   "source": [
    "driver.get(url) # Requesting a get response from the url page on driver\n",
    "\n",
    "tw_links = scroll(num) # the function returns the data from the page"
   ]
  },
  {
   "cell_type": "code",
   "execution_count": 56,
   "metadata": {},
   "outputs": [],
   "source": [
    "total = len(tw_links)\n",
    "if(total > num):\n",
    "    total = num\n",
    "    tw_links = tw_links[:num] # selecting the first required number of objects(comments)"
   ]
  },
  {
   "cell_type": "markdown",
   "metadata": {},
   "source": [
    "#### Reading the HTML response for collecting the comments and using RegEx to remove unwanted comments"
   ]
  },
  {
   "cell_type": "code",
   "execution_count": 57,
   "metadata": {},
   "outputs": [],
   "source": [
    "pattern = r\"twitter.com\"  # defining a pattern to look for in the comments\n",
    "r = []\n",
    "for x in tw_links:\n",
    "    ep = x.find(\"p\", class_ = \"TweetTextSize\") # gathering comments from the html objects(flags, classes)\n",
    "    text = ep.text.strip()  # stripping out the text data\n",
    "    d = re.findall(pattern, text)  # using RegEx to filter out the unwanted comments like images/videos and links\n",
    "    if len(d):\n",
    "        continue\n",
    "    r.append(text)"
   ]
  },
  {
   "cell_type": "markdown",
   "metadata": {},
   "source": [
    "#### using Sentiment Intensity Analyzer object for detecting the 'polarity scores' of the comments"
   ]
  },
  {
   "cell_type": "code",
   "execution_count": 59,
   "metadata": {},
   "outputs": [],
   "source": [
    "sid = SentimentIntensityAnalyzer() # creating Sentiment Intensity Analyzer object"
   ]
  },
  {
   "cell_type": "code",
   "execution_count": 60,
   "metadata": {},
   "outputs": [],
   "source": [
    "pol = []\n",
    "po = []\n",
    "for a in r:\n",
    "    score = sid.polarity_scores(a) # checking for polarity score of each comment. the polarity score defines how positive, negative or neutral the comment is.\n",
    "    comp = score['compound']\n",
    "    neg = score['neg']\n",
    "    pos = score['pos']\n",
    "    neu = score['neu']\n",
    "    if(comp >= 0):\n",
    "        if(pos >= neu - 0.1): # manually choosing the threshold value for classifying positive and negative comments\n",
    "            pol.append('positive')\n",
    "        else:\n",
    "            pol.append('negative')\n",
    "    else:\n",
    "        pol.append('negative')\n",
    "    po.append(score) # stores the table of pos, neg, neu, comp score values. Can be printed using the commented line below\n",
    "# print(po)"
   ]
  },
  {
   "cell_type": "markdown",
   "metadata": {},
   "source": [
    "#### classifying the positive, negative and unprocessed comments"
   ]
  },
  {
   "cell_type": "code",
   "execution_count": 61,
   "metadata": {},
   "outputs": [],
   "source": [
    "pos_num, neg_num = 0,0\n",
    "for e in pol:\n",
    "    if e == 'positive':\n",
    "        pos_num += 1\n",
    "    elif e == 'negative':\n",
    "        neg_num += 1\n",
    "unprocessed = total - (pos_num + neg_num) # calculating the unprocessed comments"
   ]
  },
  {
   "cell_type": "code",
   "execution_count": 62,
   "metadata": {},
   "outputs": [],
   "source": [
    "labels = 'Positive', 'Unprocessed', 'Negative'  # prepairing data for plotting\n",
    "data = [pos_num, unprocessed, neg_num]"
   ]
  },
  {
   "cell_type": "markdown",
   "metadata": {},
   "source": [
    "#### printing the comments"
   ]
  },
  {
   "cell_type": "code",
   "execution_count": 77,
   "metadata": {},
   "outputs": [
    {
     "name": "stdout",
     "output_type": "stream",
     "text": [
      "1 :  ....what do you know about boxing, you can’t even win a round with EU dictators, sparring is not your best asset, come to think of it what are you good at, oh yeah spinning a yarn!\n",
      "2 :  Resign!\n",
      "3 :  Must be great to meet well fed children now when will you visit and meet with children who are not so lucky to be so well fed?\n",
      "4 :  For the good of the country will you please resign.\n",
      "5 :  RESIGN YOU DELUSIONAL SOCIAPATH\n",
      "6 :  RESIGN\n",
      "7 :  Resign.  #WTOBrexit #NoBrexitNoVote\n",
      "8 :  A spar with her would've gone down well.\n",
      "9 :  Maybe you can get Huawei to sponsor\n",
      "10 :  TM resign\n",
      "11 :  Liar\n",
      "12 :  Resign\n"
     ]
    }
   ],
   "source": [
    "for i,k in enumerate(r): # r is the list that stores the comments\n",
    "    print (i+1,': ',k)"
   ]
  },
  {
   "cell_type": "code",
   "execution_count": 72,
   "metadata": {},
   "outputs": [
    {
     "name": "stdout",
     "output_type": "stream",
     "text": [
      "Positive :  0\n",
      "Unprocessed :  1\n",
      "Negative :  12\n"
     ]
    }
   ],
   "source": [
    "for i,k in enumerate(labels):\n",
    "    print (k,': ',data[i])"
   ]
  },
  {
   "cell_type": "markdown",
   "metadata": {},
   "source": [
    "#### pie-chart representation of the comments"
   ]
  },
  {
   "cell_type": "code",
   "execution_count": 76,
   "metadata": {},
   "outputs": [
    {
     "data": {
      "image/png": "[encoded data removed]",
      "text/plain": [
       "<Figure size 576x576 with 1 Axes>"
      ]
     },
     "metadata": {},
     "output_type": "display_data"
    }
   ],
   "source": [
    "explode = (0, 0.1, 0)  # only \"explode\" the 2nd slice (i.e. 'Unprocessed')\n",
    "\n",
    "fig1, ax1 = plt.subplots(figsize = (8, 8))\n",
    "ax1.pie(data, explode=explode, labels=labels, autopct='%1.1f%%',\n",
    "        shadow=True, startangle=120)\n",
    "plt.xlabel(\"\\nPercentage representation of the comments!\")\n",
    "plt.legend(labels)\n",
    "ax1.axis('equal')  # Equal aspect ratio ensures that pie is drawn as a circle.\n",
    "\n",
    "plt.show()"
   ]
  },
  {
   "cell_type": "code",
   "execution_count": null,
   "metadata": {},
   "outputs": [],
   "source": []
  }
 ],
 "metadata": {
  "kernelspec": {
   "display_name": "Python 3",
   "language": "python",
   "name": "python3"
  },
  "language_info": {
   "codemirror_mode": {
    "name": "ipython",
    "version": 3
   },
   "file_extension": ".py",
   "mimetype": "text/x-python",
   "name": "python",
   "nbconvert_exporter": "python",
   "pygments_lexer": "ipython3",
   "version": "3.6.7"
  }
 },
 "nbformat": 4,
 "nbformat_minor": 2
}
